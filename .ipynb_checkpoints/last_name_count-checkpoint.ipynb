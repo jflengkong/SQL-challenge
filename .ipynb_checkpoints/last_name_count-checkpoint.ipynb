{
 "cells": [
  {
   "cell_type": "code",
   "execution_count": null,
   "id": "8f9d451b-b72d-46aa-907b-03dc9aa0f51d",
   "metadata": {},
   "outputs": [],
   "source": [
    "import pd\n",
    "import matplotlib.pyplot as plt \n"
   ]
  }
 ],
 "metadata": {
  "kernelspec": {
   "display_name": "“PythonData”",
   "language": "python",
   "name": "pythondata"
  },
  "language_info": {
   "codemirror_mode": {
    "name": "ipython",
    "version": 3
   },
   "file_extension": ".py",
   "mimetype": "text/x-python",
   "name": "python",
   "nbconvert_exporter": "python",
   "pygments_lexer": "ipython3",
   "version": "3.11.4"
  }
 },
 "nbformat": 4,
 "nbformat_minor": 5
}
